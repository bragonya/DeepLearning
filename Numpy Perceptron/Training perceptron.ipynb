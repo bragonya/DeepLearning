{
 "cells": [
  {
   "cell_type": "markdown",
   "metadata": {},
   "source": [
    "# Training perceptron with numpy"
   ]
  },
  {
   "cell_type": "code",
   "execution_count": 3,
   "metadata": {},
   "outputs": [],
   "source": [
    "import pandas as pd\n",
    "import numpy as np\n",
    "import matplotlib.pyplot as plt"
   ]
  },
  {
   "cell_type": "markdown",
   "metadata": {},
   "source": [
    "## Data normalization"
   ]
  },
  {
   "cell_type": "code",
   "execution_count": 4,
   "metadata": {},
   "outputs": [],
   "source": [
    "def normalize(dataset):\n",
    "    return ((dataset-dataset.min())/(dataset.max()-dataset.min()))"
   ]
  },
  {
   "cell_type": "markdown",
   "metadata": {},
   "source": [
    "Verity convergence function"
   ]
  },
  {
   "cell_type": "code",
   "execution_count": 5,
   "metadata": {},
   "outputs": [],
   "source": [
    "def convergence(x,w,y):\n",
    "    y_hat = np.matmul(x,w.T)\n",
    "    y_hat = np.piecewise(y_hat, [(y_hat < 0),(y_hat >= 0)], [0, 1])\n",
    "    return np.sum((y_hat-y)) == 0"
   ]
  },
  {
   "cell_type": "markdown",
   "metadata": {},
   "source": [
    "Prepare data"
   ]
  },
  {
   "cell_type": "code",
   "execution_count": 6,
   "metadata": {},
   "outputs": [],
   "source": [
    "data = pd.read_csv(\"data.csv\")\n",
    "data['x1'] = normalize(data['x1'])\n",
    "data['x2'] = normalize(data['x2'])\n",
    "data['ones'] = 1\n",
    "y = np.array(data[['label']]).T\n",
    "completeData = np.array(data[['x1','x2','ones']])"
   ]
  },
  {
   "cell_type": "markdown",
   "metadata": {},
   "source": [
    "Training function"
   ]
  },
  {
   "cell_type": "code",
   "execution_count": 7,
   "metadata": {},
   "outputs": [],
   "source": [
    "def training(lr):\n",
    "    w = np.random.normal(0, 0.1, (1,3))\n",
    "    while True:\n",
    "        element = data.sample()\n",
    "        labelValue = element['label'].values[0]\n",
    "        x = np.array(element[['x1','x2','ones']])\n",
    "        if(labelValue == 1 and np.dot(w,x.T) < 0):\n",
    "            w = w + x*lr\n",
    "        elif(labelValue == 0 and np.dot(w,x.T) >= 0):\n",
    "            w = w - x*lr\n",
    "        if(convergence(completeData,w,y)):\n",
    "            return (w)"
   ]
  },
  {
   "cell_type": "markdown",
   "metadata": {},
   "source": [
    "Get weights and graph results to verify the correct separation of the data"
   ]
  },
  {
   "cell_type": "code",
   "execution_count": 8,
   "metadata": {},
   "outputs": [
    {
     "data": {
      "text/plain": [
       "<matplotlib.collections.PathCollection at 0x26acabc2390>"
      ]
     },
     "execution_count": 8,
     "metadata": {},
     "output_type": "execute_result"
    },
    {
     "data": {
      "image/png": "[encoded data removed]",
      "text/plain": [
       "<Figure size 432x288 with 1 Axes>"
      ]
     },
     "metadata": {
      "needs_background": "light"
     },
     "output_type": "display_data"
    }
   ],
   "source": [
    "weights = training(0.1)\n",
    "\n",
    "label_0 =data.where(data['label']==0).dropna()\n",
    "label_1 =data.where(data['label']==1).dropna()\n",
    "fig, ax = plt.subplots()\n",
    "x2y =  (-weights[0][0]*completeData[:,0] - weights[0][2])/weights[0][1]\n",
    "ax.plot(completeData[:,0],x2y,color=\"green\")\n",
    "ax.scatter(label_1['x1'],label_1['x2'],color=\"red\")\n",
    "ax.scatter(label_0['x1'],label_0['x2'],color=\"black\")"
   ]
  }
 ],
 "metadata": {
  "kernelspec": {
   "display_name": "Python 3",
   "language": "python",
   "name": "python3"
  },
  "language_info": {
   "codemirror_mode": {
    "name": "ipython",
    "version": 3
   },
   "file_extension": ".py",
   "mimetype": "text/x-python",
   "name": "python",
   "nbconvert_exporter": "python",
   "pygments_lexer": "ipython3",
   "version": "3.6.8"
  }
 },
 "nbformat": 4,
 "nbformat_minor": 2
}
