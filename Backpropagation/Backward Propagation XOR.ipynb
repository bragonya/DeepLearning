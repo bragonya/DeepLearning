{
 "cells": [
  {
   "cell_type": "markdown",
   "metadata": {},
   "source": [
    "# Backward propagation XOR"
   ]
  },
  {
   "cell_type": "code",
   "execution_count": 3,
   "metadata": {},
   "outputs": [],
   "source": [
    "import numpy as np\n",
    "import pandas as pd\n",
    "import matplotlib.pyplot as plt\n",
    "import pandas as pd"
   ]
  },
  {
   "cell_type": "markdown",
   "metadata": {},
   "source": [
    "## Activation function"
   ]
  },
  {
   "cell_type": "code",
   "execution_count": 217,
   "metadata": {},
   "outputs": [],
   "source": [
    "def activation(x):\n",
    "    return 1/(1 + np.exp(-x))\n",
    "\n",
    "def derivate_activation(x):\n",
    "    return np.multiply(x , (1 - x))"
   ]
  },
  {
   "cell_type": "markdown",
   "metadata": {},
   "source": [
    "## Neural Network"
   ]
  },
  {
   "cell_type": "markdown",
   "metadata": {},
   "source": [
    "Testing results"
   ]
  },
  {
   "cell_type": "code",
   "execution_count": 218,
   "metadata": {},
   "outputs": [],
   "source": [
    "entries = np.matrix([[1,1,1],[1,0,1],[0,1,1],[0,0,1]])\n",
    "labels = np.array([[0],[1],[1],[0]])"
   ]
  },
  {
   "cell_type": "code",
   "execution_count": 237,
   "metadata": {},
   "outputs": [],
   "source": [
    "hidden_weights = np.random.randn(3,3)*np.sqrt(1/3) ##Xavier Inizialization\n",
    "output_weights = np.random.uniform(size=(3,1))"
   ]
  },
  {
   "cell_type": "code",
   "execution_count": 244,
   "metadata": {},
   "outputs": [],
   "source": [
    "def training(epochs,lr,inputs,hidden_weights,output_weights,labels):\n",
    "    predictions = 0\n",
    "    for _ in range(epochs):\n",
    "        activation_hidden = np.dot(inputs,hidden_weights)\n",
    "        hidden_layer_output = activation(activation_hidden) ##4x3\n",
    "        output_layer_activation = np.dot(hidden_layer_output,output_weights)\n",
    "        predicted_output = activation(output_layer_activation)\n",
    "        predictions = predicted_output\n",
    "        error = labels - predicted_output\n",
    "        d_predicted_output = np.multiply(error , derivate_activation(predicted_output))\n",
    "        error_hidden_layer = d_predicted_output.dot(output_weights.T) ##4x3\n",
    "        d_hidden_layer = np.multiply(error_hidden_layer , derivate_activation(hidden_layer_output))\n",
    "        output_weights += hidden_layer_output.T.dot(d_predicted_output) * lr\n",
    "        hidden_weights += inputs.T.dot(d_hidden_layer) * lr\n",
    "    return predicted_output"
   ]
  },
  {
   "cell_type": "code",
   "execution_count": 246,
   "metadata": {},
   "outputs": [
    {
     "data": {
      "text/plain": [
       "matrix([[0.03422994],\n",
       "        [0.96698175],\n",
       "        [0.96099973],\n",
       "        [0.03973291]])"
      ]
     },
     "execution_count": 246,
     "metadata": {},
     "output_type": "execute_result"
    }
   ],
   "source": [
    "training(10000,0.1,entries,hidden_weights,output_weights,labels)"
   ]
  }
 ],
 "metadata": {
  "kernelspec": {
   "display_name": "Python 3",
   "language": "python",
   "name": "python3"
  },
  "language_info": {
   "codemirror_mode": {
    "name": "ipython",
    "version": 3
   },
   "file_extension": ".py",
   "mimetype": "text/x-python",
   "name": "python",
   "nbconvert_exporter": "python",
   "pygments_lexer": "ipython3",
   "version": "3.6.8"
  }
 },
 "nbformat": 4,
 "nbformat_minor": 2
}
