{
 "cells": [
  {
   "cell_type": "markdown",
   "metadata": {},
   "source": [
    "# CIFAR 10 classification with CNN"
   ]
  },
  {
   "cell_type": "code",
   "execution_count": 2,
   "metadata": {},
   "outputs": [
    {
     "name": "stderr",
     "output_type": "stream",
     "text": [
      "Using TensorFlow backend.\n"
     ]
    }
   ],
   "source": [
    "from keras import backend as K\n",
    "from keras.models import Sequential,Model\n",
    "from keras.utils import to_categorical\n",
    "from keras.preprocessing.image import ImageDataGenerator\n",
    "from keras.layers import Dense, Activation, Flatten, Dropout, BatchNormalization\n",
    "from keras.layers import Conv2D, MaxPooling2D, AveragePooling2D\n",
    "from keras.datasets import cifar10\n",
    "from keras import regularizers\n",
    "from keras.layers import LeakyReLU, ELU\n",
    "import numpy as np\n",
    "import matplotlib.pyplot as plt\n",
    "import keras.backend.tensorflow_backend as KTF\n",
    "import tensorflow as tf"
   ]
  },
  {
   "cell_type": "code",
   "execution_count": 3,
   "metadata": {},
   "outputs": [],
   "source": [
    "config = tf.ConfigProto()\n",
    "config.gpu_options.allow_growth=True   \n",
    "sess = tf.Session(config=config)\n",
    "\n",
    "KTF.set_session(sess)"
   ]
  },
  {
   "cell_type": "markdown",
   "metadata": {},
   "source": [
    "## Utils"
   ]
  },
  {
   "cell_type": "code",
   "execution_count": 4,
   "metadata": {},
   "outputs": [],
   "source": [
    "dictionary = {0:'airplane',1:'autommovil',2:'bird',3:'cat',4:'deer',5:'dog',6:'frog',7:'horse',8:'ship',9:'truck'}\n",
    "def getLabelName(index):\n",
    "    return dictionary.get(yyt[index][0])\n",
    "    \n",
    "def display_activation(activations, col_size, row_size, act_index): \n",
    "    activation = activations[act_index]\n",
    "    activation_index=0\n",
    "    fig, ax = plt.subplots(row_size, col_size, figsize=(row_size*2.5,col_size*1.5))\n",
    "    for row in range(0,row_size):\n",
    "        for col in range(0,col_size):\n",
    "            ax[row][col].imshow(activation[0, :, :, activation_index], cmap='gray')\n",
    "            activation_index += 1\n",
    "\n",
    "def normalization(dataset):\n",
    "    mean = np.mean(x_train,axis=(0,1,2,3))\n",
    "    desviation = np.std(x_train,axis=(0,1,2,3))\n",
    "    return (dataset-mean)/(desviation+ K.epsilon())\n",
    "\n",
    "def f1(y_true, y_pred):\n",
    "    def recall(y_true, y_pred):\n",
    "        true_positives = K.sum(K.round(K.clip(y_true * y_pred, 0, 1)))\n",
    "        possible_positives = K.sum(K.round(K.clip(y_true, 0, 1)))\n",
    "        recall = true_positives / (possible_positives + K.epsilon())\n",
    "        return recall\n",
    "\n",
    "    def precision(y_true, y_pred):\n",
    "        true_positives = K.sum(K.round(K.clip(y_true * y_pred, 0, 1)))\n",
    "        predicted_positives = K.sum(K.round(K.clip(y_pred, 0, 1)))\n",
    "        precision = true_positives / (predicted_positives + K.epsilon())\n",
    "        return precision\n",
    "    precision = precision(y_true, y_pred)\n",
    "    recall = recall(y_true, y_pred)\n",
    "    return 2*((precision*recall)/(precision+recall+K.epsilon()))\n",
    " "
   ]
  },
  {
   "cell_type": "markdown",
   "metadata": {},
   "source": [
    "## Preparing data\n",
    "\n",
    "Labels:\n",
    "\n",
    "![title](labels.PNG)"
   ]
  },
  {
   "cell_type": "code",
   "execution_count": 5,
   "metadata": {},
   "outputs": [],
   "source": [
    "(x_train, y_train), (x_test, y_test) = cifar10.load_data()\n",
    "yyt = y_train.copy()\n",
    "x_train = x_train.astype('float32')\n",
    "x_test = x_test.astype('float32')\n",
    " \n",
    "x_train = normalization(x_train)\n",
    "x_test = normalization(x_test)\n",
    " \n",
    "y_train = to_categorical(y_train,10)\n",
    "y_test = to_categorical(y_test,10)"
   ]
  },
  {
   "cell_type": "markdown",
   "metadata": {},
   "source": [
    "## Create model"
   ]
  },
  {
   "cell_type": "code",
   "execution_count": 6,
   "metadata": {},
   "outputs": [
    {
     "name": "stdout",
     "output_type": "stream",
     "text": [
      "WARNING:tensorflow:From C:\\Users\\ASUS\\Anaconda3\\envs\\galileo_python\\lib\\site-packages\\tensorflow\\python\\framework\\op_def_library.py:263: colocate_with (from tensorflow.python.framework.ops) is deprecated and will be removed in a future version.\n",
      "Instructions for updating:\n",
      "Colocations handled automatically by placer.\n",
      "_________________________________________________________________\n",
      "Layer (type)                 Output Shape              Param #   \n",
      "=================================================================\n",
      "conv2d_1 (Conv2D)            (None, 30, 30, 32)        896       \n",
      "_________________________________________________________________\n",
      "leaky_re_lu_1 (LeakyReLU)    (None, 30, 30, 32)        0         \n",
      "_________________________________________________________________\n",
      "batch_normalization_1 (Batch (None, 30, 30, 32)        128       \n",
      "_________________________________________________________________\n",
      "conv2d_2 (Conv2D)            (None, 28, 28, 32)        9248      \n",
      "_________________________________________________________________\n",
      "leaky_re_lu_2 (LeakyReLU)    (None, 28, 28, 32)        0         \n",
      "_________________________________________________________________\n",
      "batch_normalization_2 (Batch (None, 28, 28, 32)        128       \n",
      "_________________________________________________________________\n",
      "max_pooling2d_1 (MaxPooling2 (None, 14, 14, 32)        0         \n",
      "_________________________________________________________________\n",
      "conv2d_3 (Conv2D)            (None, 12, 12, 64)        18496     \n",
      "_________________________________________________________________\n",
      "leaky_re_lu_3 (LeakyReLU)    (None, 12, 12, 64)        0         \n",
      "_________________________________________________________________\n",
      "batch_normalization_3 (Batch (None, 12, 12, 64)        256       \n",
      "_________________________________________________________________\n",
      "conv2d_4 (Conv2D)            (None, 10, 10, 64)        36928     \n",
      "_________________________________________________________________\n",
      "leaky_re_lu_4 (LeakyReLU)    (None, 10, 10, 64)        0         \n",
      "_________________________________________________________________\n",
      "batch_normalization_4 (Batch (None, 10, 10, 64)        256       \n",
      "_________________________________________________________________\n",
      "max_pooling2d_2 (MaxPooling2 (None, 5, 5, 64)          0         \n",
      "_________________________________________________________________\n",
      "flatten_1 (Flatten)          (None, 1600)              0         \n",
      "_________________________________________________________________\n",
      "dense_1 (Dense)              (None, 10)                16010     \n",
      "=================================================================\n",
      "Total params: 82,346\n",
      "Trainable params: 81,962\n",
      "Non-trainable params: 384\n",
      "_________________________________________________________________\n"
     ]
    }
   ],
   "source": [
    "model = Sequential()\n",
    "model.add(Conv2D(32, (3,3),kernel_regularizer=regularizers.l2(1e-4),input_shape=x_train.shape[1:]))\n",
    "model.add(LeakyReLU(alpha=0.1))\n",
    "model.add(BatchNormalization())\n",
    "model.add(Conv2D(32, (3,3),kernel_regularizer=regularizers.l2(1e-4)))\n",
    "model.add(LeakyReLU(alpha=0.1))\n",
    "model.add(BatchNormalization())\n",
    "model.add(MaxPooling2D(pool_size=(2,2)))\n",
    " \n",
    "model.add(Conv2D(64, (3,3),kernel_regularizer=regularizers.l2(1e-4)))\n",
    "model.add(LeakyReLU(alpha=0.1))\n",
    "model.add(BatchNormalization())\n",
    "model.add(Conv2D(64, (3,3),kernel_regularizer=regularizers.l2(1e-4)))\n",
    "model.add(LeakyReLU(alpha=0.1))\n",
    "model.add(BatchNormalization())\n",
    "model.add(MaxPooling2D(pool_size=(2,2)))\n",
    "\n",
    "\n",
    "model.add(Flatten())\n",
    "model.add(Dense(10, activation='softmax'))\n",
    " \n",
    "model.summary()\n",
    " "
   ]
  },
  {
   "cell_type": "markdown",
   "metadata": {},
   "source": [
    "## Data aumentation"
   ]
  },
  {
   "cell_type": "code",
   "execution_count": 7,
   "metadata": {},
   "outputs": [],
   "source": [
    "datagen = ImageDataGenerator(\n",
    "    rescale=1./255,\n",
    "    shear_range=0.1,\n",
    "    zoom_range=0.1,\n",
    "    horizontal_flip=True\n",
    "    )\n",
    "datagen.fit(x_train)\n",
    "batch_size = 64"
   ]
  },
  {
   "cell_type": "markdown",
   "metadata": {},
   "source": [
    "## Compile model and save weights"
   ]
  },
  {
   "cell_type": "code",
   "execution_count": 7,
   "metadata": {},
   "outputs": [
    {
     "name": "stdout",
     "output_type": "stream",
     "text": [
      "WARNING:tensorflow:From C:\\Users\\ASUS\\Anaconda3\\envs\\galileo_python\\lib\\site-packages\\tensorflow\\python\\ops\\math_ops.py:3066: to_int32 (from tensorflow.python.ops.math_ops) is deprecated and will be removed in a future version.\n",
      "Instructions for updating:\n",
      "Use tf.cast instead.\n",
      "Epoch 1/50\n",
      "781/781 [==============================] - 18s 23ms/step - loss: 1.4461 - acc: 0.5065 - f1: 0.4600 - val_loss: 12.9765 - val_acc: 0.1959 - val_f1: 0.1959\n",
      "Epoch 2/50\n",
      "781/781 [==============================] - 16s 21ms/step - loss: 1.0696 - acc: 0.6373 - f1: 0.6214 - val_loss: 10.4897 - val_acc: 0.3503 - val_f1: 0.3503\n",
      "Epoch 3/50\n",
      "781/781 [==============================] - 16s 21ms/step - loss: 0.9299 - acc: 0.6875 - f1: 0.6796 - val_loss: 11.6712 - val_acc: 0.2772 - val_f1: 0.2772\n",
      "Epoch 4/50\n",
      "781/781 [==============================] - 16s 21ms/step - loss: 0.8511 - acc: 0.7146 - f1: 0.7100 - val_loss: 11.1771 - val_acc: 0.3081 - val_f1: 0.3081\n",
      "Epoch 5/50\n",
      "781/781 [==============================] - 16s 21ms/step - loss: 0.7922 - acc: 0.7361 - f1: 0.7327 - val_loss: 10.4465 - val_acc: 0.3535 - val_f1: 0.3535\n",
      "Epoch 6/50\n",
      "781/781 [==============================] - 16s 21ms/step - loss: 0.7536 - acc: 0.7508 - f1: 0.7488 - val_loss: 10.4745 - val_acc: 0.3520 - val_f1: 0.3520\n",
      "Epoch 7/50\n",
      "781/781 [==============================] - 17s 22ms/step - loss: 0.7186 - acc: 0.7647 - f1: 0.7606 - val_loss: 9.9095 - val_acc: 0.3871 - val_f1: 0.3871\n",
      "Epoch 8/50\n",
      "781/781 [==============================] - 17s 22ms/step - loss: 0.6969 - acc: 0.7703 - f1: 0.7702 - val_loss: 11.3634 - val_acc: 0.2972 - val_f1: 0.2972\n",
      "Epoch 9/50\n",
      "781/781 [==============================] - 16s 21ms/step - loss: 0.6721 - acc: 0.7788 - f1: 0.7775 - val_loss: 9.5102 - val_acc: 0.4122 - val_f1: 0.4122\n",
      "Epoch 10/50\n",
      "781/781 [==============================] - 16s 21ms/step - loss: 0.6562 - acc: 0.7874 - f1: 0.7870 - val_loss: 11.2956 - val_acc: 0.3016 - val_f1: 0.3016\n",
      "Epoch 11/50\n",
      "781/781 [==============================] - 16s 21ms/step - loss: 0.6334 - acc: 0.7956 - f1: 0.7952 - val_loss: 10.7791 - val_acc: 0.3339 - val_f1: 0.3339\n",
      "Epoch 12/50\n",
      "781/781 [==============================] - 16s 20ms/step - loss: 0.6190 - acc: 0.8016 - f1: 0.8009 - val_loss: 11.7878 - val_acc: 0.2713 - val_f1: 0.2713\n",
      "Epoch 13/50\n",
      "781/781 [==============================] - 16s 21ms/step - loss: 0.6065 - acc: 0.8082 - f1: 0.8071 - val_loss: 10.7338 - val_acc: 0.3369 - val_f1: 0.3369\n",
      "Epoch 14/50\n",
      "781/781 [==============================] - 16s 21ms/step - loss: 0.5942 - acc: 0.8112 - f1: 0.8111 - val_loss: 11.1491 - val_acc: 0.3111 - val_f1: 0.3111\n",
      "Epoch 15/50\n",
      "781/781 [==============================] - 16s 20ms/step - loss: 0.5904 - acc: 0.8143 - f1: 0.8144 - val_loss: 10.6970 - val_acc: 0.3395 - val_f1: 0.3395\n",
      "Epoch 16/50\n",
      "781/781 [==============================] - 16s 20ms/step - loss: 0.5695 - acc: 0.8219 - f1: 0.8209 - val_loss: 10.4267 - val_acc: 0.3563 - val_f1: 0.3563\n",
      "Epoch 17/50\n",
      "781/781 [==============================] - 16s 21ms/step - loss: 0.5697 - acc: 0.8203 - f1: 0.8208 - val_loss: 11.0975 - val_acc: 0.3145 - val_f1: 0.3145\n",
      "Epoch 18/50\n",
      "781/781 [==============================] - 16s 21ms/step - loss: 0.5568 - acc: 0.8256 - f1: 0.8269 - val_loss: 11.3085 - val_acc: 0.3018 - val_f1: 0.3018\n",
      "Epoch 19/50\n",
      "781/781 [==============================] - 16s 20ms/step - loss: 0.5437 - acc: 0.8306 - f1: 0.8295 - val_loss: 12.1563 - val_acc: 0.2493 - val_f1: 0.2493\n",
      "Epoch 20/50\n",
      "781/781 [==============================] - 16s 21ms/step - loss: 0.5449 - acc: 0.8320 - f1: 0.8322 - val_loss: 10.6095 - val_acc: 0.3454 - val_f1: 0.3454\n",
      "Epoch 21/50\n",
      "781/781 [==============================] - 16s 21ms/step - loss: 0.5397 - acc: 0.8340 - f1: 0.8360 - val_loss: 11.5184 - val_acc: 0.2891 - val_f1: 0.2891\n",
      "Epoch 22/50\n",
      "781/781 [==============================] - 17s 21ms/step - loss: 0.5291 - acc: 0.8382 - f1: 0.8386 - val_loss: 10.3081 - val_acc: 0.3641 - val_f1: 0.3641\n",
      "Epoch 23/50\n",
      "781/781 [==============================] - 16s 21ms/step - loss: 0.5225 - acc: 0.8406 - f1: 0.8420 - val_loss: 10.9108 - val_acc: 0.3267 - val_f1: 0.3267\n",
      "Epoch 24/50\n",
      "781/781 [==============================] - 16s 20ms/step - loss: 0.5187 - acc: 0.8420 - f1: 0.8430 - val_loss: 10.4370 - val_acc: 0.3563 - val_f1: 0.3563\n",
      "Epoch 25/50\n",
      "781/781 [==============================] - 16s 21ms/step - loss: 0.5215 - acc: 0.8412 - f1: 0.8413 - val_loss: 10.5066 - val_acc: 0.3522 - val_f1: 0.3522\n",
      "Epoch 26/50\n",
      "781/781 [==============================] - 16s 21ms/step - loss: 0.5095 - acc: 0.8462 - f1: 0.8467 - val_loss: 10.8341 - val_acc: 0.3320 - val_f1: 0.3320\n",
      "Epoch 27/50\n",
      "781/781 [==============================] - 17s 21ms/step - loss: 0.5069 - acc: 0.8464 - f1: 0.8479 - val_loss: 9.6632 - val_acc: 0.4046 - val_f1: 0.4046\n",
      "Epoch 28/50\n",
      "781/781 [==============================] - 16s 20ms/step - loss: 0.4970 - acc: 0.8500 - f1: 0.8518 - val_loss: 9.9694 - val_acc: 0.3857 - val_f1: 0.3857\n",
      "Epoch 29/50\n",
      "781/781 [==============================] - 16s 21ms/step - loss: 0.4945 - acc: 0.8501 - f1: 0.8520 - val_loss: 10.2765 - val_acc: 0.3668 - val_f1: 0.3668\n",
      "Epoch 30/50\n",
      "781/781 [==============================] - 16s 21ms/step - loss: 0.4941 - acc: 0.8517 - f1: 0.8532 - val_loss: 10.8246 - val_acc: 0.3328 - val_f1: 0.3328\n",
      "Epoch 31/50\n",
      "781/781 [==============================] - 16s 20ms/step - loss: 0.4902 - acc: 0.8533 - f1: 0.8538 - val_loss: 10.7102 - val_acc: 0.3399 - val_f1: 0.3399\n",
      "Epoch 32/50\n",
      "781/781 [==============================] - 16s 21ms/step - loss: 0.4862 - acc: 0.8545 - f1: 0.8559 - val_loss: 11.4865 - val_acc: 0.2918 - val_f1: 0.2918\n",
      "Epoch 33/50\n",
      "781/781 [==============================] - 16s 20ms/step - loss: 0.4872 - acc: 0.8558 - f1: 0.8566 - val_loss: 10.7430 - val_acc: 0.3380 - val_f1: 0.3380\n",
      "Epoch 34/50\n",
      "781/781 [==============================] - 16s 20ms/step - loss: 0.4837 - acc: 0.8572 - f1: 0.8575 - val_loss: 10.7198 - val_acc: 0.3395 - val_f1: 0.3395\n",
      "Epoch 35/50\n",
      "781/781 [==============================] - 16s 20ms/step - loss: 0.4791 - acc: 0.8579 - f1: 0.8595 - val_loss: 10.7372 - val_acc: 0.3385 - val_f1: 0.3385\n",
      "Epoch 36/50\n",
      "781/781 [==============================] - 16s 20ms/step - loss: 0.4720 - acc: 0.8621 - f1: 0.8621 - val_loss: 11.4026 - val_acc: 0.2971 - val_f1: 0.2971\n",
      "Epoch 37/50\n",
      "781/781 [==============================] - 16s 21ms/step - loss: 0.4702 - acc: 0.8622 - f1: 0.8631 - val_loss: 10.3165 - val_acc: 0.3646 - val_f1: 0.3646\n",
      "Epoch 38/50\n",
      "781/781 [==============================] - 17s 21ms/step - loss: 0.4694 - acc: 0.8631 - f1: 0.8642 - val_loss: 10.6908 - val_acc: 0.3415 - val_f1: 0.3415\n",
      "Epoch 39/50\n",
      "781/781 [==============================] - 16s 21ms/step - loss: 0.4689 - acc: 0.8628 - f1: 0.8626 - val_loss: 10.7599 - val_acc: 0.3373 - val_f1: 0.3373\n",
      "Epoch 40/50\n",
      "781/781 [==============================] - 16s 21ms/step - loss: 0.4659 - acc: 0.8638 - f1: 0.8654 - val_loss: 11.3650 - val_acc: 0.2997 - val_f1: 0.2997\n",
      "Epoch 41/50\n",
      "781/781 [==============================] - 16s 21ms/step - loss: 0.4629 - acc: 0.8646 - f1: 0.8652 - val_loss: 10.1996 - val_acc: 0.3722 - val_f1: 0.3722\n",
      "Epoch 42/50\n",
      "781/781 [==============================] - 17s 22ms/step - loss: 0.4632 - acc: 0.8662 - f1: 0.8661 - val_loss: 10.7602 - val_acc: 0.3373 - val_f1: 0.3373\n",
      "Epoch 43/50\n",
      "781/781 [==============================] - 17s 22ms/step - loss: 0.4597 - acc: 0.8662 - f1: 0.8680 - val_loss: 10.3971 - val_acc: 0.3600 - val_f1: 0.3600\n",
      "Epoch 44/50\n",
      "781/781 [==============================] - 17s 22ms/step - loss: 0.4512 - acc: 0.8707 - f1: 0.8723 - val_loss: 10.7519 - val_acc: 0.3380 - val_f1: 0.3380\n",
      "Epoch 45/50\n",
      "781/781 [==============================] - 17s 21ms/step - loss: 0.4539 - acc: 0.8703 - f1: 0.8705 - val_loss: 10.7792 - val_acc: 0.3364 - val_f1: 0.3364\n",
      "Epoch 46/50\n",
      "781/781 [==============================] - 17s 21ms/step - loss: 0.4529 - acc: 0.8701 - f1: 0.8710 - val_loss: 10.7320 - val_acc: 0.3392 - val_f1: 0.3392\n",
      "Epoch 47/50\n",
      "781/781 [==============================] - 17s 21ms/step - loss: 0.4498 - acc: 0.8712 - f1: 0.8721 - val_loss: 12.1667 - val_acc: 0.2504 - val_f1: 0.2504\n",
      "Epoch 48/50\n",
      "781/781 [==============================] - 16s 21ms/step - loss: 0.4429 - acc: 0.8729 - f1: 0.8743 - val_loss: 10.6418 - val_acc: 0.3450 - val_f1: 0.3450\n"
     ]
    },
    {
     "name": "stdout",
     "output_type": "stream",
     "text": [
      "Epoch 49/50\n",
      "781/781 [==============================] - 17s 21ms/step - loss: 0.4480 - acc: 0.8714 - f1: 0.8726 - val_loss: 10.7140 - val_acc: 0.3405 - val_f1: 0.3405\n",
      "Epoch 50/50\n",
      "781/781 [==============================] - 16s 21ms/step - loss: 0.4457 - acc: 0.8726 - f1: 0.8745 - val_loss: 10.0417 - val_acc: 0.3823 - val_f1: 0.3823\n"
     ]
    }
   ],
   "source": [
    "model.compile(loss='categorical_crossentropy', optimizer='adam', metrics=['accuracy',f1])\n",
    "model.fit_generator(datagen.flow(x_train, y_train, batch_size=batch_size),steps_per_epoch=x_train.shape[0] // batch_size,epochs=50,verbose=1,validation_data=(x_test,y_test))\n",
    "\n",
    "model.save_weights('modelwithoutDropout2layersRegulizer.h5') \n"
   ]
  },
  {
   "cell_type": "code",
   "execution_count": 8,
   "metadata": {},
   "outputs": [],
   "source": [
    "model.load_weights('modelwithoutDropout2layersRegulizer.h5')\n",
    "model.compile(loss='categorical_crossentropy', optimizer='adam', metrics=['accuracy',f1])\n"
   ]
  },
  {
   "cell_type": "markdown",
   "metadata": {},
   "source": [
    "## Show kernels"
   ]
  },
  {
   "cell_type": "code",
   "execution_count": 20,
   "metadata": {},
   "outputs": [
    {
     "ename": "NameError",
     "evalue": "name 'pyplot' is not defined",
     "output_type": "error",
     "traceback": [
      "\u001b[1;31m---------------------------------------------------------------------------\u001b[0m",
      "\u001b[1;31mNameError\u001b[0m                                 Traceback (most recent call last)",
      "\u001b[1;32m<ipython-input-20-0e78a78f029a>\u001b[0m in \u001b[0;36m<module>\u001b[1;34m\u001b[0m\n\u001b[0;32m     11\u001b[0m         \u001b[0max\u001b[0m\u001b[1;33m.\u001b[0m\u001b[0mset_xticks\u001b[0m\u001b[1;33m(\u001b[0m\u001b[1;33m[\u001b[0m\u001b[1;33m]\u001b[0m\u001b[1;33m)\u001b[0m\u001b[1;33m\u001b[0m\u001b[1;33m\u001b[0m\u001b[0m\n\u001b[0;32m     12\u001b[0m         \u001b[0max\u001b[0m\u001b[1;33m.\u001b[0m\u001b[0mset_yticks\u001b[0m\u001b[1;33m(\u001b[0m\u001b[1;33m[\u001b[0m\u001b[1;33m]\u001b[0m\u001b[1;33m)\u001b[0m\u001b[1;33m\u001b[0m\u001b[1;33m\u001b[0m\u001b[0m\n\u001b[1;32m---> 13\u001b[1;33m         \u001b[0mpyplot\u001b[0m\u001b[1;33m.\u001b[0m\u001b[0mimshow\u001b[0m\u001b[1;33m(\u001b[0m\u001b[0mf\u001b[0m\u001b[1;33m[\u001b[0m\u001b[1;33m:\u001b[0m\u001b[1;33m,\u001b[0m \u001b[1;33m:\u001b[0m\u001b[1;33m,\u001b[0m \u001b[0mj\u001b[0m\u001b[1;33m]\u001b[0m\u001b[1;33m,\u001b[0m \u001b[0mcmap\u001b[0m\u001b[1;33m=\u001b[0m\u001b[1;34m'gray'\u001b[0m\u001b[1;33m)\u001b[0m\u001b[1;33m\u001b[0m\u001b[1;33m\u001b[0m\u001b[0m\n\u001b[0m\u001b[0;32m     14\u001b[0m         \u001b[0mix\u001b[0m \u001b[1;33m+=\u001b[0m \u001b[1;36m1\u001b[0m\u001b[1;33m\u001b[0m\u001b[1;33m\u001b[0m\u001b[0m\n\u001b[0;32m     15\u001b[0m \u001b[0mpyplot\u001b[0m\u001b[1;33m.\u001b[0m\u001b[0mshow\u001b[0m\u001b[1;33m(\u001b[0m\u001b[1;33m)\u001b[0m\u001b[1;33m\u001b[0m\u001b[1;33m\u001b[0m\u001b[0m\n",
      "\u001b[1;31mNameError\u001b[0m: name 'pyplot' is not defined"
     ]
    },
    {
     "data": {
      "image/png": "[encoded data removed]",
      "text/plain": [
       "<Figure size 432x288 with 1 Axes>"
      ]
     },
     "metadata": {},
     "output_type": "display_data"
    }
   ],
   "source": [
    "filters, biases = model.layers[3].get_weights()\n",
    "f_min, f_max = filters.min(), filters.max()\n",
    "filters = (filters - f_min) / (f_max - f_min)\n",
    "n_filters, ix = 6, 1\n",
    "for i in range(n_filters):\n",
    "    f = filters[:, :, :, i]\n",
    "    # plot each channel separately\n",
    "    for j in range(3):\n",
    "        # specify subplot and turn of axis\n",
    "        ax = plt.subplot(n_filters, 3, ix)\n",
    "        ax.set_xticks([])\n",
    "        ax.set_yticks([])\n",
    "        pyplot.imshow(f[:, :, j], cmap='gray')\n",
    "        ix += 1\n",
    "pyplot.show()"
   ]
  },
  {
   "cell_type": "markdown",
   "metadata": {},
   "source": [
    "## Show middle layers"
   ]
  },
  {
   "cell_type": "code",
   "execution_count": 9,
   "metadata": {},
   "outputs": [
    {
     "name": "stderr",
     "output_type": "stream",
     "text": [
      "Clipping input data to the valid range for imshow with RGB data ([0..1] for floats or [0..255] for integers).\n"
     ]
    },
    {
     "name": "stdout",
     "output_type": "stream",
     "text": [
      "horse\n"
     ]
    },
    {
     "data": {
      "image/png": "[encoded data removed]",
      "text/plain": [
       "<Figure size 432x288 with 1 Axes>"
      ]
     },
     "metadata": {
      "needs_background": "light"
     },
     "output_type": "display_data"
    },
    {
     "data": {
      "image/png": "[encoded data removed]",
      "text/plain": [
       "<Figure size 720x864 with 32 Axes>"
      ]
     },
     "metadata": {
      "needs_background": "light"
     },
     "output_type": "display_data"
    }
   ],
   "source": [
    "print(getLabelName(11))\n",
    "plt.imshow(x_train[11])\n",
    "layer_outputs = [layer.output for layer in model.layers]\n",
    "activation_model = Model(inputs=model.input, outputs=layer_outputs)\n",
    "            \n",
    "activations = activation_model.predict(x_train[11].reshape(1,32,32,3))\n",
    "display_activation(activations, 8, 4, 2)\n"
   ]
  },
  {
   "cell_type": "markdown",
   "metadata": {},
   "source": [
    "## Getting test scores"
   ]
  },
  {
   "cell_type": "code",
   "execution_count": 15,
   "metadata": {},
   "outputs": [
    {
     "name": "stdout",
     "output_type": "stream",
     "text": [
      "10000/10000 [==============================] - 1s 117us/step\n",
      "accuracy: 0.3823 f1: 0.3822999403953552\n"
     ]
    }
   ],
   "source": [
    "scores = model.evaluate(x_test, y_test)\n",
    "print(\"accuracy: \"+str(scores[1])+\" f1: \"+str(scores[2]))"
   ]
  }
 ],
 "metadata": {
  "kernelspec": {
   "display_name": "Python 3",
   "language": "python",
   "name": "python3"
  },
  "language_info": {
   "codemirror_mode": {
    "name": "ipython",
    "version": 3
   },
   "file_extension": ".py",
   "mimetype": "text/x-python",
   "name": "python",
   "nbconvert_exporter": "python",
   "pygments_lexer": "ipython3",
   "version": "3.6.8"
  }
 },
 "nbformat": 4,
 "nbformat_minor": 2
}
