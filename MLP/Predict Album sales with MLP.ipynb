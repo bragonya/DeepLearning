{
 "cells": [
  {
   "cell_type": "markdown",
   "metadata": {},
   "source": [
    "# Predict Album sales with MLP"
   ]
  },
  {
   "cell_type": "code",
   "execution_count": 15,
   "metadata": {},
   "outputs": [],
   "source": [
    "from sklearn.preprocessing import StandardScaler\n",
    "import tensorflow as tf\n",
    "import matplotlib.pyplot as plt\n",
    "from sklearn.model_selection import train_test_split\n",
    "import numpy as np\n",
    "import pandas as pd\n",
    "import keras as K\n",
    "from keras.models import Sequential\n",
    "from keras.layers import Dense, BatchNormalization\n",
    "from keras.optimizers import Adam\n",
    "from keras.utils.np_utils import to_categorical\n",
    "from keras.callbacks import ModelCheckpoint\n",
    "from keras.wrappers.scikit_learn import KerasClassifier\n",
    "import keras.backend.tensorflow_backend as KTF"
   ]
  },
  {
   "cell_type": "code",
   "execution_count": 2,
   "metadata": {},
   "outputs": [],
   "source": [
    "config = tf.ConfigProto()\n",
    "config.gpu_options.allow_growth=True   \n",
    "sess = tf.Session(config=config)\n",
    "\n",
    "KTF.set_session(sess)"
   ]
  },
  {
   "cell_type": "code",
   "execution_count": 145,
   "metadata": {},
   "outputs": [
    {
     "data": {
      "text/html": [
       "<div>\n",
       "<style scoped>\n",
       "    .dataframe tbody tr th:only-of-type {\n",
       "        vertical-align: middle;\n",
       "    }\n",
       "\n",
       "    .dataframe tbody tr th {\n",
       "        vertical-align: top;\n",
       "    }\n",
       "\n",
       "    .dataframe thead th {\n",
       "        text-align: right;\n",
       "    }\n",
       "</style>\n",
       "<table border=\"1\" class=\"dataframe\">\n",
       "  <thead>\n",
       "    <tr style=\"text-align: right;\">\n",
       "      <th></th>\n",
       "      <th>id</th>\n",
       "      <th>artist_id</th>\n",
       "      <th>album_title</th>\n",
       "      <th>genre</th>\n",
       "      <th>year_of_pub</th>\n",
       "      <th>num_of_tracks</th>\n",
       "      <th>num_of_sales</th>\n",
       "      <th>rolling_stone_critic</th>\n",
       "      <th>mtv_critic</th>\n",
       "      <th>music_maniac_critic</th>\n",
       "    </tr>\n",
       "  </thead>\n",
       "  <tbody>\n",
       "    <tr>\n",
       "      <th>0</th>\n",
       "      <td>1</td>\n",
       "      <td>1767</td>\n",
       "      <td>Call me Cat Moneyless That Doggies</td>\n",
       "      <td>Folk</td>\n",
       "      <td>2006</td>\n",
       "      <td>11</td>\n",
       "      <td>905193</td>\n",
       "      <td>4.0</td>\n",
       "      <td>1.5</td>\n",
       "      <td>3.0</td>\n",
       "    </tr>\n",
       "    <tr>\n",
       "      <th>1</th>\n",
       "      <td>2</td>\n",
       "      <td>23548</td>\n",
       "      <td>Down Mare</td>\n",
       "      <td>Metal</td>\n",
       "      <td>2014</td>\n",
       "      <td>7</td>\n",
       "      <td>969122</td>\n",
       "      <td>3.0</td>\n",
       "      <td>4.0</td>\n",
       "      <td>5.0</td>\n",
       "    </tr>\n",
       "    <tr>\n",
       "      <th>2</th>\n",
       "      <td>3</td>\n",
       "      <td>17822</td>\n",
       "      <td>Embarrassed Hungry</td>\n",
       "      <td>Latino</td>\n",
       "      <td>2000</td>\n",
       "      <td>11</td>\n",
       "      <td>522095</td>\n",
       "      <td>2.5</td>\n",
       "      <td>1.0</td>\n",
       "      <td>2.0</td>\n",
       "    </tr>\n",
       "    <tr>\n",
       "      <th>3</th>\n",
       "      <td>4</td>\n",
       "      <td>19565</td>\n",
       "      <td>Standard Immediate Engineer Slovakia</td>\n",
       "      <td>Pop</td>\n",
       "      <td>2017</td>\n",
       "      <td>4</td>\n",
       "      <td>610116</td>\n",
       "      <td>1.5</td>\n",
       "      <td>2.0</td>\n",
       "      <td>4.0</td>\n",
       "    </tr>\n",
       "    <tr>\n",
       "      <th>4</th>\n",
       "      <td>5</td>\n",
       "      <td>24941</td>\n",
       "      <td>Decent Distance Georgian</td>\n",
       "      <td>Black Metal</td>\n",
       "      <td>2010</td>\n",
       "      <td>8</td>\n",
       "      <td>151111</td>\n",
       "      <td>4.5</td>\n",
       "      <td>2.5</td>\n",
       "      <td>1.0</td>\n",
       "    </tr>\n",
       "  </tbody>\n",
       "</table>\n",
       "</div>"
      ],
      "text/plain": [
       "   id  artist_id                           album_title        genre  \\\n",
       "0   1       1767    Call me Cat Moneyless That Doggies         Folk   \n",
       "1   2      23548                             Down Mare        Metal   \n",
       "2   3      17822                    Embarrassed Hungry       Latino   \n",
       "3   4      19565  Standard Immediate Engineer Slovakia          Pop   \n",
       "4   5      24941              Decent Distance Georgian  Black Metal   \n",
       "\n",
       "   year_of_pub  num_of_tracks  num_of_sales  rolling_stone_critic  mtv_critic  \\\n",
       "0         2006             11        905193                   4.0         1.5   \n",
       "1         2014              7        969122                   3.0         4.0   \n",
       "2         2000             11        522095                   2.5         1.0   \n",
       "3         2017              4        610116                   1.5         2.0   \n",
       "4         2010              8        151111                   4.5         2.5   \n",
       "\n",
       "   music_maniac_critic  \n",
       "0                  3.0  \n",
       "1                  5.0  \n",
       "2                  2.0  \n",
       "3                  4.0  \n",
       "4                  1.0  "
      ]
     },
     "execution_count": 145,
     "metadata": {},
     "output_type": "execute_result"
    }
   ],
   "source": [
    "data = pd.read_csv('albums.csv')\n",
    "data.head()"
   ]
  },
  {
   "cell_type": "code",
   "execution_count": 146,
   "metadata": {},
   "outputs": [
    {
     "data": {
      "text/plain": [
       "(100000, 10)"
      ]
     },
     "execution_count": 146,
     "metadata": {},
     "output_type": "execute_result"
    }
   ],
   "source": [
    "np.shape(data)"
   ]
  },
  {
   "cell_type": "markdown",
   "metadata": {},
   "source": [
    "## Data to categorical"
   ]
  },
  {
   "cell_type": "code",
   "execution_count": 147,
   "metadata": {},
   "outputs": [],
   "source": [
    "data = pd.concat([data,pd.get_dummies(data.genre)],axis=1)\n",
    "data.drop(['genre'],axis=1, inplace=True)"
   ]
  },
  {
   "cell_type": "markdown",
   "metadata": {},
   "source": [
    "## Delete unnecesary columns"
   ]
  },
  {
   "cell_type": "code",
   "execution_count": 148,
   "metadata": {},
   "outputs": [],
   "source": [
    "del data['album_title']\n",
    "del data['id']\n",
    "del data['artist_id']\n",
    "del data['year_of_pub']"
   ]
  },
  {
   "cell_type": "code",
   "execution_count": 149,
   "metadata": {},
   "outputs": [
    {
     "data": {
      "text/html": [
       "<div>\n",
       "<style scoped>\n",
       "    .dataframe tbody tr th:only-of-type {\n",
       "        vertical-align: middle;\n",
       "    }\n",
       "\n",
       "    .dataframe tbody tr th {\n",
       "        vertical-align: top;\n",
       "    }\n",
       "\n",
       "    .dataframe thead th {\n",
       "        text-align: right;\n",
       "    }\n",
       "</style>\n",
       "<table border=\"1\" class=\"dataframe\">\n",
       "  <thead>\n",
       "    <tr style=\"text-align: right;\">\n",
       "      <th></th>\n",
       "      <th>num_of_tracks</th>\n",
       "      <th>num_of_sales</th>\n",
       "      <th>rolling_stone_critic</th>\n",
       "      <th>mtv_critic</th>\n",
       "      <th>music_maniac_critic</th>\n",
       "      <th>Alternative</th>\n",
       "      <th>Ambient</th>\n",
       "      <th>Black Metal</th>\n",
       "      <th>Blues</th>\n",
       "      <th>Boy Band</th>\n",
       "      <th>...</th>\n",
       "      <th>Pop-Rock</th>\n",
       "      <th>Progressive</th>\n",
       "      <th>Punk</th>\n",
       "      <th>Rap</th>\n",
       "      <th>Retro</th>\n",
       "      <th>Rock</th>\n",
       "      <th>Techno</th>\n",
       "      <th>Trap</th>\n",
       "      <th>Unplugged</th>\n",
       "      <th>Western</th>\n",
       "    </tr>\n",
       "  </thead>\n",
       "  <tbody>\n",
       "    <tr>\n",
       "      <th>0</th>\n",
       "      <td>11</td>\n",
       "      <td>905193</td>\n",
       "      <td>4.0</td>\n",
       "      <td>1.5</td>\n",
       "      <td>3.0</td>\n",
       "      <td>0</td>\n",
       "      <td>0</td>\n",
       "      <td>0</td>\n",
       "      <td>0</td>\n",
       "      <td>0</td>\n",
       "      <td>...</td>\n",
       "      <td>0</td>\n",
       "      <td>0</td>\n",
       "      <td>0</td>\n",
       "      <td>0</td>\n",
       "      <td>0</td>\n",
       "      <td>0</td>\n",
       "      <td>0</td>\n",
       "      <td>0</td>\n",
       "      <td>0</td>\n",
       "      <td>0</td>\n",
       "    </tr>\n",
       "    <tr>\n",
       "      <th>1</th>\n",
       "      <td>7</td>\n",
       "      <td>969122</td>\n",
       "      <td>3.0</td>\n",
       "      <td>4.0</td>\n",
       "      <td>5.0</td>\n",
       "      <td>0</td>\n",
       "      <td>0</td>\n",
       "      <td>0</td>\n",
       "      <td>0</td>\n",
       "      <td>0</td>\n",
       "      <td>...</td>\n",
       "      <td>0</td>\n",
       "      <td>0</td>\n",
       "      <td>0</td>\n",
       "      <td>0</td>\n",
       "      <td>0</td>\n",
       "      <td>0</td>\n",
       "      <td>0</td>\n",
       "      <td>0</td>\n",
       "      <td>0</td>\n",
       "      <td>0</td>\n",
       "    </tr>\n",
       "    <tr>\n",
       "      <th>2</th>\n",
       "      <td>11</td>\n",
       "      <td>522095</td>\n",
       "      <td>2.5</td>\n",
       "      <td>1.0</td>\n",
       "      <td>2.0</td>\n",
       "      <td>0</td>\n",
       "      <td>0</td>\n",
       "      <td>0</td>\n",
       "      <td>0</td>\n",
       "      <td>0</td>\n",
       "      <td>...</td>\n",
       "      <td>0</td>\n",
       "      <td>0</td>\n",
       "      <td>0</td>\n",
       "      <td>0</td>\n",
       "      <td>0</td>\n",
       "      <td>0</td>\n",
       "      <td>0</td>\n",
       "      <td>0</td>\n",
       "      <td>0</td>\n",
       "      <td>0</td>\n",
       "    </tr>\n",
       "    <tr>\n",
       "      <th>3</th>\n",
       "      <td>4</td>\n",
       "      <td>610116</td>\n",
       "      <td>1.5</td>\n",
       "      <td>2.0</td>\n",
       "      <td>4.0</td>\n",
       "      <td>0</td>\n",
       "      <td>0</td>\n",
       "      <td>0</td>\n",
       "      <td>0</td>\n",
       "      <td>0</td>\n",
       "      <td>...</td>\n",
       "      <td>0</td>\n",
       "      <td>0</td>\n",
       "      <td>0</td>\n",
       "      <td>0</td>\n",
       "      <td>0</td>\n",
       "      <td>0</td>\n",
       "      <td>0</td>\n",
       "      <td>0</td>\n",
       "      <td>0</td>\n",
       "      <td>0</td>\n",
       "    </tr>\n",
       "    <tr>\n",
       "      <th>4</th>\n",
       "      <td>8</td>\n",
       "      <td>151111</td>\n",
       "      <td>4.5</td>\n",
       "      <td>2.5</td>\n",
       "      <td>1.0</td>\n",
       "      <td>0</td>\n",
       "      <td>0</td>\n",
       "      <td>1</td>\n",
       "      <td>0</td>\n",
       "      <td>0</td>\n",
       "      <td>...</td>\n",
       "      <td>0</td>\n",
       "      <td>0</td>\n",
       "      <td>0</td>\n",
       "      <td>0</td>\n",
       "      <td>0</td>\n",
       "      <td>0</td>\n",
       "      <td>0</td>\n",
       "      <td>0</td>\n",
       "      <td>0</td>\n",
       "      <td>0</td>\n",
       "    </tr>\n",
       "  </tbody>\n",
       "</table>\n",
       "<p>5 rows × 43 columns</p>\n",
       "</div>"
      ],
      "text/plain": [
       "   num_of_tracks  num_of_sales  rolling_stone_critic  mtv_critic  \\\n",
       "0             11        905193                   4.0         1.5   \n",
       "1              7        969122                   3.0         4.0   \n",
       "2             11        522095                   2.5         1.0   \n",
       "3              4        610116                   1.5         2.0   \n",
       "4              8        151111                   4.5         2.5   \n",
       "\n",
       "   music_maniac_critic  Alternative  Ambient  Black Metal  Blues  Boy Band  \\\n",
       "0                  3.0            0        0            0      0         0   \n",
       "1                  5.0            0        0            0      0         0   \n",
       "2                  2.0            0        0            0      0         0   \n",
       "3                  4.0            0        0            0      0         0   \n",
       "4                  1.0            0        0            1      0         0   \n",
       "\n",
       "   ...  Pop-Rock  Progressive  Punk  Rap  Retro  Rock  Techno  Trap  \\\n",
       "0  ...         0            0     0    0      0     0       0     0   \n",
       "1  ...         0            0     0    0      0     0       0     0   \n",
       "2  ...         0            0     0    0      0     0       0     0   \n",
       "3  ...         0            0     0    0      0     0       0     0   \n",
       "4  ...         0            0     0    0      0     0       0     0   \n",
       "\n",
       "   Unplugged  Western  \n",
       "0          0        0  \n",
       "1          0        0  \n",
       "2          0        0  \n",
       "3          0        0  \n",
       "4          0        0  \n",
       "\n",
       "[5 rows x 43 columns]"
      ]
     },
     "execution_count": 149,
     "metadata": {},
     "output_type": "execute_result"
    }
   ],
   "source": [
    "data.head()"
   ]
  },
  {
   "cell_type": "markdown",
   "metadata": {},
   "source": [
    "## Prepare data"
   ]
  },
  {
   "cell_type": "code",
   "execution_count": 150,
   "metadata": {},
   "outputs": [],
   "source": [
    "x = data.loc[:, data.columns != 'num_of_sales']\n",
    "y = data[\"num_of_sales\"]"
   ]
  },
  {
   "cell_type": "code",
   "execution_count": 151,
   "metadata": {},
   "outputs": [],
   "source": [
    "x_train, x_test, y_train, y_test = train_test_split(x, y, test_size = 0.2, random_state = 0)"
   ]
  },
  {
   "cell_type": "code",
   "execution_count": 174,
   "metadata": {},
   "outputs": [
    {
     "data": {
      "text/plain": [
       "(80000,)"
      ]
     },
     "execution_count": 174,
     "metadata": {},
     "output_type": "execute_result"
    }
   ],
   "source": [
    "np.shape(y_train)"
   ]
  },
  {
   "cell_type": "markdown",
   "metadata": {},
   "source": [
    "## MLP\n",
    "\n",
    "Create a model with:\n",
    "* Xavier initialization (glorot uniform)\n",
    "* Batch normalization between each layer\n",
    "* Nadam optimizer\n",
    "* Mean Absolute Error for cost"
   ]
  },
  {
   "cell_type": "code",
   "execution_count": 176,
   "metadata": {},
   "outputs": [
    {
     "name": "stdout",
     "output_type": "stream",
     "text": [
      "_________________________________________________________________\n",
      "Layer (type)                 Output Shape              Param #   \n",
      "=================================================================\n",
      "dense_69 (Dense)             (None, 128)               5504      \n",
      "_________________________________________________________________\n",
      "batch_normalization_48 (Batc (None, 128)               512       \n",
      "_________________________________________________________________\n",
      "dense_70 (Dense)             (None, 64)                8256      \n",
      "_________________________________________________________________\n",
      "batch_normalization_49 (Batc (None, 64)                256       \n",
      "_________________________________________________________________\n",
      "dense_71 (Dense)             (None, 32)                2080      \n",
      "_________________________________________________________________\n",
      "batch_normalization_50 (Batc (None, 32)                128       \n",
      "_________________________________________________________________\n",
      "dense_72 (Dense)             (None, 1)                 33        \n",
      "=================================================================\n",
      "Total params: 16,769\n",
      "Trainable params: 16,321\n",
      "Non-trainable params: 448\n",
      "_________________________________________________________________\n"
     ]
    }
   ],
   "source": [
    "model = Sequential()\n",
    "model.add(Dense(128, input_shape = (42, ), activation = \"relu\",kernel_initializer='glorot_uniform',\n",
    "                bias_initializer='zeros'))\n",
    "model.add(BatchNormalization())\n",
    "model.add(Dense(64, activation = \"relu\",kernel_initializer='glorot_uniform',\n",
    "                bias_initializer='zeros'))\n",
    "model.add(BatchNormalization())\n",
    "model.add(Dense(32, activation = \"relu\",kernel_initializer='glorot_uniform',\n",
    "                bias_initializer='zeros'))\n",
    "model.add(BatchNormalization())\n",
    "model.add(Dense(1, activation=\"linear\"))\n",
    "model.compile(loss = \"mae\", optimizer = \"nadam\")\n",
    "\n",
    "model.summary()"
   ]
  },
  {
   "cell_type": "code",
   "execution_count": 177,
   "metadata": {},
   "outputs": [
    {
     "name": "stdout",
     "output_type": "stream",
     "text": [
      "Train on 64000 samples, validate on 16000 samples\n",
      "Epoch 1/100\n",
      "64000/64000 [==============================] - 18s 288us/step - loss: 498239.0584 - val_loss: 504465.4349\n",
      "Epoch 2/100\n",
      "64000/64000 [==============================] - 16s 251us/step - loss: 496131.4822 - val_loss: 501564.6306\n",
      "Epoch 3/100\n",
      "64000/64000 [==============================] - 16s 249us/step - loss: 492625.3465 - val_loss: 497476.7041\n",
      "Epoch 4/100\n",
      "64000/64000 [==============================] - 16s 246us/step - loss: 487983.7811 - val_loss: 492342.9766\n",
      "Epoch 5/100\n",
      "64000/64000 [==============================] - 16s 246us/step - loss: 482309.9046 - val_loss: 486111.6082\n",
      "Epoch 6/100\n",
      "64000/64000 [==============================] - 16s 249us/step - loss: 475658.4230 - val_loss: 478528.2824\n",
      "Epoch 7/100\n",
      "64000/64000 [==============================] - 16s 254us/step - loss: 468104.4067 - val_loss: 470940.9236\n",
      "Epoch 8/100\n",
      "64000/64000 [==============================] - 16s 251us/step - loss: 459728.5322 - val_loss: 462322.7455\n",
      "Epoch 9/100\n",
      "64000/64000 [==============================] - 16s 252us/step - loss: 450581.6966 - val_loss: 452653.9381\n",
      "Epoch 10/100\n",
      "64000/64000 [==============================] - 16s 252us/step - loss: 440759.9122 - val_loss: 442742.7629\n",
      "Epoch 11/100\n",
      "64000/64000 [==============================] - 16s 247us/step - loss: 430330.9991 - val_loss: 431234.6565\n",
      "Epoch 12/100\n",
      "64000/64000 [==============================] - 16s 250us/step - loss: 419373.7329 - val_loss: 420333.3841\n",
      "Epoch 13/100\n",
      "64000/64000 [==============================] - 16s 250us/step - loss: 407965.6558 - val_loss: 408876.9523\n",
      "Epoch 14/100\n",
      "64000/64000 [==============================] - 16s 252us/step - loss: 396218.5869 - val_loss: 397125.5682\n",
      "Epoch 15/100\n",
      "64000/64000 [==============================] - 16s 245us/step - loss: 384246.0590 - val_loss: 384033.9800\n",
      "Epoch 16/100\n",
      "64000/64000 [==============================] - 16s 245us/step - loss: 372105.3062 - val_loss: 371499.2071\n",
      "Epoch 17/100\n",
      "64000/64000 [==============================] - 16s 246us/step - loss: 359951.1159 - val_loss: 360245.4225\n",
      "Epoch 18/100\n",
      "64000/64000 [==============================] - 16s 246us/step - loss: 347927.8544 - val_loss: 347855.7629\n",
      "Epoch 19/100\n",
      "64000/64000 [==============================] - 16s 245us/step - loss: 336121.8836 - val_loss: 333836.1705\n",
      "Epoch 20/100\n",
      "64000/64000 [==============================] - 16s 246us/step - loss: 324638.5157 - val_loss: 321906.4769\n",
      "Epoch 21/100\n",
      "64000/64000 [==============================] - 16s 249us/step - loss: 313593.7343 - val_loss: 310335.0487\n",
      "Epoch 22/100\n",
      "64000/64000 [==============================] - 16s 246us/step - loss: 303101.8655 - val_loss: 299744.2032\n",
      "Epoch 23/100\n",
      "64000/64000 [==============================] - 16s 247us/step - loss: 293387.7524 - val_loss: 291014.9220\n",
      "Epoch 24/100\n",
      "64000/64000 [==============================] - 16s 252us/step - loss: 284474.9909 - val_loss: 282496.8409\n",
      "Epoch 25/100\n",
      "64000/64000 [==============================] - 16s 245us/step - loss: 276627.3161 - val_loss: 275204.1389\n",
      "Epoch 26/100\n",
      "64000/64000 [==============================] - 16s 253us/step - loss: 269731.4646 - val_loss: 268777.7589\n",
      "Epoch 27/100\n",
      "64000/64000 [==============================] - 16s 248us/step - loss: 264004.2482 - val_loss: 262182.9228\n",
      "Epoch 28/100\n",
      "64000/64000 [==============================] - 16s 246us/step - loss: 259408.9914 - val_loss: 258418.0313\n",
      "Epoch 29/100\n",
      "64000/64000 [==============================] - 16s 252us/step - loss: 255943.2792 - val_loss: 255007.3882\n",
      "Epoch 30/100\n",
      "64000/64000 [==============================] - 16s 256us/step - loss: 253366.5054 - val_loss: 252357.4567\n",
      "Epoch 31/100\n",
      "64000/64000 [==============================] - 18s 281us/step - loss: 251745.2866 - val_loss: 251187.9939\n",
      "Epoch 32/100\n",
      "64000/64000 [==============================] - 18s 283us/step - loss: 250629.7326 - val_loss: 250844.6288\n",
      "Epoch 33/100\n",
      "64000/64000 [==============================] - 17s 268us/step - loss: 250076.3057 - val_loss: 249942.9010\n",
      "Epoch 34/100\n",
      "64000/64000 [==============================] - 16s 246us/step - loss: 249716.1375 - val_loss: 250112.6935\n",
      "Epoch 35/100\n",
      "64000/64000 [==============================] - 17s 273us/step - loss: 249541.4191 - val_loss: 249546.3865\n",
      "Epoch 36/100\n",
      "64000/64000 [==============================] - 18s 278us/step - loss: 249406.9387 - val_loss: 249150.0526\n",
      "Epoch 37/100\n",
      "64000/64000 [==============================] - 18s 280us/step - loss: 249372.3114 - val_loss: 249721.2167\n",
      "Epoch 38/100\n",
      "64000/64000 [==============================] - 18s 278us/step - loss: 249318.6960 - val_loss: 248627.0767\n",
      "Epoch 39/100\n",
      "64000/64000 [==============================] - 18s 277us/step - loss: 249254.0282 - val_loss: 248568.4198\n",
      "Epoch 40/100\n",
      "64000/64000 [==============================] - 18s 278us/step - loss: 249281.7498 - val_loss: 248663.4951\n",
      "Epoch 41/100\n",
      "64000/64000 [==============================] - 18s 277us/step - loss: 249169.8200 - val_loss: 248819.1033\n",
      "Epoch 42/100\n",
      "64000/64000 [==============================] - 18s 277us/step - loss: 249236.6932 - val_loss: 250690.0987\n",
      "Epoch 43/100\n",
      "64000/64000 [==============================] - 18s 277us/step - loss: 249027.1578 - val_loss: 250405.1591\n",
      "Epoch 44/100\n",
      "64000/64000 [==============================] - 18s 278us/step - loss: 249031.8787 - val_loss: 249892.4181\n",
      "Epoch 45/100\n",
      "64000/64000 [==============================] - 16s 254us/step - loss: 249040.8544 - val_loss: 249222.9270\n",
      "Epoch 46/100\n",
      "64000/64000 [==============================] - 16s 244us/step - loss: 249076.0480 - val_loss: 250075.6612\n",
      "Epoch 47/100\n",
      "64000/64000 [==============================] - 17s 259us/step - loss: 249074.4523 - val_loss: 250233.9874\n",
      "Epoch 48/100\n",
      "64000/64000 [==============================] - 18s 279us/step - loss: 248902.5690 - val_loss: 252930.7546\n",
      "Epoch 49/100\n",
      "64000/64000 [==============================] - 18s 279us/step - loss: 248893.9523 - val_loss: 249100.4874\n",
      "Epoch 50/100\n",
      "64000/64000 [==============================] - 18s 279us/step - loss: 249035.3398 - val_loss: 255857.9627\n",
      "Epoch 51/100\n",
      "64000/64000 [==============================] - 18s 277us/step - loss: 248933.9696 - val_loss: 269537.3749\n",
      "Epoch 52/100\n",
      "64000/64000 [==============================] - 18s 276us/step - loss: 248959.5067 - val_loss: 255013.5362\n",
      "Epoch 53/100\n",
      "64000/64000 [==============================] - 18s 278us/step - loss: 248986.4575 - val_loss: 256153.1879\n",
      "Epoch 54/100\n",
      "64000/64000 [==============================] - 18s 275us/step - loss: 248884.9715 - val_loss: 250788.5796\n",
      "Epoch 55/100\n",
      "64000/64000 [==============================] - 16s 252us/step - loss: 248746.3567 - val_loss: 249825.6644\n",
      "Epoch 56/100\n",
      "64000/64000 [==============================] - 16s 255us/step - loss: 248756.7553 - val_loss: 254437.7302\n",
      "Epoch 57/100\n",
      "64000/64000 [==============================] - 16s 248us/step - loss: 248769.5203 - val_loss: 253097.3764\n",
      "Epoch 58/100\n",
      "64000/64000 [==============================] - 16s 249us/step - loss: 248699.6399 - val_loss: 251950.3772\n",
      "Epoch 59/100\n",
      "64000/64000 [==============================] - 16s 250us/step - loss: 248689.8086 - val_loss: 249106.4450\n",
      "Epoch 60/100\n",
      "64000/64000 [==============================] - 16s 253us/step - loss: 248661.2627 - val_loss: 249997.9433\n",
      "Epoch 61/100\n",
      "64000/64000 [==============================] - 16s 249us/step - loss: 248599.9680 - val_loss: 249448.9243\n",
      "Epoch 62/100\n",
      "64000/64000 [==============================] - 16s 250us/step - loss: 248597.0259 - val_loss: 249276.3316\n",
      "Epoch 63/100\n",
      "64000/64000 [==============================] - 17s 273us/step - loss: 248511.7743 - val_loss: 249734.1749\n",
      "Epoch 64/100\n",
      "64000/64000 [==============================] - 18s 282us/step - loss: 248434.4743 - val_loss: 250111.5103\n",
      "Epoch 65/100\n",
      "64000/64000 [==============================] - 18s 276us/step - loss: 248496.3544 - val_loss: 249518.2675\n",
      "Epoch 66/100\n",
      "64000/64000 [==============================] - 18s 276us/step - loss: 248457.1039 - val_loss: 249347.4920\n",
      "Epoch 67/100\n",
      "64000/64000 [==============================] - 18s 276us/step - loss: 248344.4011 - val_loss: 249504.2681\n",
      "Epoch 68/100\n",
      "64000/64000 [==============================] - 18s 280us/step - loss: 248446.8486 - val_loss: 249843.6101\n",
      "Epoch 69/100\n",
      "64000/64000 [==============================] - 18s 279us/step - loss: 248352.2915 - val_loss: 249531.5980\n",
      "Epoch 70/100\n",
      "64000/64000 [==============================] - 18s 277us/step - loss: 248426.1879 - val_loss: 250148.6475\n",
      "Epoch 71/100\n",
      "64000/64000 [==============================] - 18s 278us/step - loss: 248290.7831 - val_loss: 249718.9078\n",
      "Epoch 72/100\n",
      "64000/64000 [==============================] - 18s 279us/step - loss: 248312.3052 - val_loss: 249636.4217\n",
      "Epoch 73/100\n",
      "64000/64000 [==============================] - 18s 280us/step - loss: 248259.7595 - val_loss: 249863.6364\n",
      "Epoch 74/100\n",
      "64000/64000 [==============================] - 18s 286us/step - loss: 248197.8472 - val_loss: 249972.4379\n",
      "Epoch 75/100\n",
      "64000/64000 [==============================] - 18s 280us/step - loss: 248201.8357 - val_loss: 250748.0742\n",
      "Epoch 76/100\n",
      "64000/64000 [==============================] - 18s 279us/step - loss: 248315.0596 - val_loss: 249710.2451\n",
      "Epoch 77/100\n",
      "64000/64000 [==============================] - 18s 278us/step - loss: 248125.3059 - val_loss: 250869.6199\n",
      "Epoch 78/100\n",
      "64000/64000 [==============================] - 18s 279us/step - loss: 248170.4112 - val_loss: 251535.9597\n",
      "Epoch 79/100\n",
      "64000/64000 [==============================] - 18s 278us/step - loss: 248091.4767 - val_loss: 252321.6473\n",
      "Epoch 80/100\n",
      "64000/64000 [==============================] - 18s 275us/step - loss: 248085.5065 - val_loss: 251621.8170\n",
      "Epoch 81/100\n",
      "64000/64000 [==============================] - 18s 275us/step - loss: 248132.3459 - val_loss: 257718.2962\n",
      "Epoch 82/100\n",
      "64000/64000 [==============================] - 16s 252us/step - loss: 248041.0592 - val_loss: 251877.9194\n",
      "Epoch 83/100\n",
      "64000/64000 [==============================] - 16s 247us/step - loss: 248027.3317 - val_loss: 250592.8665\n",
      "Epoch 84/100\n",
      "64000/64000 [==============================] - 16s 247us/step - loss: 247876.3105 - val_loss: 255554.4236\n",
      "Epoch 85/100\n",
      "64000/64000 [==============================] - 16s 250us/step - loss: 247943.3952 - val_loss: 253325.7076\n",
      "Epoch 86/100\n",
      "64000/64000 [==============================] - 16s 246us/step - loss: 247916.0269 - val_loss: 250133.9675\n",
      "Epoch 87/100\n",
      "64000/64000 [==============================] - 16s 249us/step - loss: 247867.3822 - val_loss: 250051.3357\n",
      "Epoch 88/100\n",
      "64000/64000 [==============================] - 16s 247us/step - loss: 247947.0135 - val_loss: 252421.1285\n",
      "Epoch 89/100\n",
      "64000/64000 [==============================] - 16s 246us/step - loss: 247796.6447 - val_loss: 250272.2183\n",
      "Epoch 90/100\n",
      "64000/64000 [==============================] - 16s 249us/step - loss: 247679.0765 - val_loss: 250244.9269\n",
      "Epoch 91/100\n",
      "64000/64000 [==============================] - 16s 250us/step - loss: 247680.7930 - val_loss: 251651.8154\n",
      "Epoch 92/100\n",
      "64000/64000 [==============================] - 16s 249us/step - loss: 247825.7193 - val_loss: 251039.9096\n",
      "Epoch 93/100\n",
      "64000/64000 [==============================] - 16s 249us/step - loss: 247692.8729 - val_loss: 252169.7666\n",
      "Epoch 94/100\n",
      "64000/64000 [==============================] - 16s 248us/step - loss: 247574.4272 - val_loss: 253251.1168\n",
      "Epoch 95/100\n",
      "64000/64000 [==============================] - 16s 249us/step - loss: 247654.4786 - val_loss: 254905.4044\n",
      "Epoch 96/100\n",
      "64000/64000 [==============================] - 16s 251us/step - loss: 247717.3607 - val_loss: 254864.6958\n",
      "Epoch 97/100\n",
      "64000/64000 [==============================] - 16s 250us/step - loss: 247673.6689 - val_loss: 251505.2185\n",
      "Epoch 98/100\n",
      "64000/64000 [==============================] - 16s 247us/step - loss: 247699.6402 - val_loss: 252766.2012\n",
      "Epoch 99/100\n",
      "64000/64000 [==============================] - 16s 246us/step - loss: 247570.5422 - val_loss: 251402.7506\n",
      "Epoch 100/100\n",
      "64000/64000 [==============================] - 16s 248us/step - loss: 247331.9383 - val_loss: 250420.8698\n"
     ]
    },
    {
     "data": {
      "text/plain": [
       "<keras.callbacks.History at 0x2190e9732b0>"
      ]
     },
     "execution_count": 177,
     "metadata": {},
     "output_type": "execute_result"
    }
   ],
   "source": [
    "model.fit(x_train, y_train, epochs = 100, validation_split = 0.2)"
   ]
  },
  {
   "cell_type": "markdown",
   "metadata": {},
   "source": [
    "## Save weigths on disk"
   ]
  },
  {
   "cell_type": "code",
   "execution_count": 205,
   "metadata": {},
   "outputs": [],
   "source": [
    "model.save_weights('modelwithoutDropout2layersRegulizer.h5') "
   ]
  },
  {
   "cell_type": "markdown",
   "metadata": {},
   "source": [
    "## Testing model"
   ]
  },
  {
   "cell_type": "code",
   "execution_count": 178,
   "metadata": {},
   "outputs": [],
   "source": [
    "scores = model.evaluate(x_test, y_test, verbose=0)"
   ]
  },
  {
   "cell_type": "code",
   "execution_count": 180,
   "metadata": {},
   "outputs": [
    {
     "name": "stdout",
     "output_type": "stream",
     "text": [
      "costo de test: 250876.6443\n"
     ]
    }
   ],
   "source": [
    "print(\"costo de test: \"+str(scores))"
   ]
  },
  {
   "cell_type": "markdown",
   "metadata": {},
   "source": [
    "## Manual Test"
   ]
  },
  {
   "cell_type": "code",
   "execution_count": 207,
   "metadata": {},
   "outputs": [
    {
     "name": "stdout",
     "output_type": "stream",
     "text": [
      "real value: 225722\n"
     ]
    }
   ],
   "source": [
    "print(\"real value: \"+str(y_test.iloc[12]))"
   ]
  },
  {
   "cell_type": "code",
   "execution_count": 206,
   "metadata": {},
   "outputs": [
    {
     "name": "stdout",
     "output_type": "stream",
     "text": [
      "predicted value: [[398261.34]]\n"
     ]
    }
   ],
   "source": [
    "print(\"predicted value: \"+str(model.predict(np.array(x_test.iloc[12]).reshape(1,42))))"
   ]
  }
 ],
 "metadata": {
  "kernelspec": {
   "display_name": "Python 3",
   "language": "python",
   "name": "python3"
  },
  "language_info": {
   "codemirror_mode": {
    "name": "ipython",
    "version": 3
   },
   "file_extension": ".py",
   "mimetype": "text/x-python",
   "name": "python",
   "nbconvert_exporter": "python",
   "pygments_lexer": "ipython3",
   "version": "3.6.8"
  }
 },
 "nbformat": 4,
 "nbformat_minor": 2
}
